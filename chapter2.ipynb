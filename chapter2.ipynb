{
  "nbformat": 4,
  "nbformat_minor": 5,
  "metadata": {
    "kernelspec": {
      "display_name": "Python 3",
      "language": "python",
      "name": "python3"
    },
    "language_info": {
      "codemirror_mode": {
        "name": "ipython",
        "version": 3
      },
      "file_extension": ".py",
      "mimetype": "text/x-python",
      "name": "python",
      "nbconvert_exporter": "python",
      "pygments_lexer": "ipython3",
      "version": "3.7.3"
    },
    "colab": {
      "name": "chapter2.ipynb",
      "provenance": []
    }
  },
  "cells": [
    {
      "cell_type": "code",
      "metadata": {
        "id": "47efdc3a"
      },
      "source": [
        "import networkx as nx"
      ],
      "id": "47efdc3a",
      "execution_count": 1,
      "outputs": []
    },
    {
      "cell_type": "markdown",
      "metadata": {
        "id": "eda010b4"
      },
      "source": [
        "有向图"
      ],
      "id": "eda010b4"
    },
    {
      "cell_type": "code",
      "metadata": {
        "id": "f03bd67f"
      },
      "source": [
        "G=nx.DiGraph()"
      ],
      "id": "f03bd67f",
      "execution_count": 2,
      "outputs": []
    },
    {
      "cell_type": "code",
      "metadata": {
        "id": "89c0d419"
      },
      "source": [
        "G.add_node('Alice')\n",
        "G.add_node('Bob')\n",
        "G.add_node('Chuck')"
      ],
      "id": "89c0d419",
      "execution_count": 3,
      "outputs": []
    },
    {
      "cell_type": "code",
      "metadata": {
        "id": "b6a83102",
        "outputId": "d01d1c78-d22d-4a8e-dc30-f0a7ff97a3d4",
        "colab": {
          "base_uri": "https://localhost:8080/"
        }
      },
      "source": [
        "list(G.nodes())"
      ],
      "id": "b6a83102",
      "execution_count": 4,
      "outputs": [
        {
          "output_type": "execute_result",
          "data": {
            "text/plain": [
              "['Alice', 'Bob', 'Chuck']"
            ]
          },
          "metadata": {
            "tags": []
          },
          "execution_count": 4
        }
      ]
    },
    {
      "cell_type": "code",
      "metadata": {
        "id": "e5dbb4f0",
        "outputId": "2eaed22a-e888-4a64-e0cd-dcb40cfa02a0",
        "colab": {
          "base_uri": "https://localhost:8080/"
        }
      },
      "source": [
        "G.nodes()"
      ],
      "id": "e5dbb4f0",
      "execution_count": 5,
      "outputs": [
        {
          "output_type": "execute_result",
          "data": {
            "text/plain": [
              "NodeView(('Alice', 'Bob', 'Chuck'))"
            ]
          },
          "metadata": {
            "tags": []
          },
          "execution_count": 5
        }
      ]
    },
    {
      "cell_type": "code",
      "metadata": {
        "id": "e160df12"
      },
      "source": [
        "G.add_edge('Alice','Bob')\n",
        "G.add_edge('Alice','Chuck')\n",
        "G.add_edge('Bob','Alice')\n",
        "G.add_edge('Bob','Chuck')"
      ],
      "id": "e160df12",
      "execution_count": 6,
      "outputs": []
    },
    {
      "cell_type": "code",
      "metadata": {
        "id": "9192398d",
        "outputId": "5734ebdb-a878-40b1-ad5c-ce5bb69a6b4f",
        "colab": {
          "base_uri": "https://localhost:8080/"
        }
      },
      "source": [
        "list(G.edges())"
      ],
      "id": "9192398d",
      "execution_count": 7,
      "outputs": [
        {
          "output_type": "execute_result",
          "data": {
            "text/plain": [
              "[('Alice', 'Bob'), ('Alice', 'Chuck'), ('Bob', 'Alice'), ('Bob', 'Chuck')]"
            ]
          },
          "metadata": {
            "tags": []
          },
          "execution_count": 7
        }
      ]
    },
    {
      "cell_type": "code",
      "metadata": {
        "id": "c2b404cd"
      },
      "source": [
        "nx.draw_networkx??"
      ],
      "id": "c2b404cd",
      "execution_count": 8,
      "outputs": []
    },
    {
      "cell_type": "code",
      "metadata": {
        "id": "afe9b333",
        "outputId": "d23deb48-df22-41f2-e6b1-1fad5fb2bf4a",
        "colab": {
          "base_uri": "https://localhost:8080/",
          "height": 319
        }
      },
      "source": [
        "nx.draw_circular(G,node_color=(1,0,0),node_size=2000,with_labels=True)"
      ],
      "id": "afe9b333",
      "execution_count": 9,
      "outputs": [
        {
          "output_type": "display_data",
          "data": {
            "image/png": "[encoded data removed]",
            "text/plain": [
              "<Figure size 432x288 with 1 Axes>"
            ]
          },
          "metadata": {
            "tags": []
          }
        }
      ]
    },
    {
      "cell_type": "code",
      "metadata": {
        "id": "67db8f79"
      },
      "source": [
        "positions=dict(Albany=(-74,43),Boston=(-71,42),NYC=(-74,41),Philly=(-75,40))"
      ],
      "id": "67db8f79",
      "execution_count": 10,
      "outputs": []
    },
    {
      "cell_type": "markdown",
      "metadata": {
        "id": "5d7e4516"
      },
      "source": [
        "无向图"
      ],
      "id": "5d7e4516"
    },
    {
      "cell_type": "code",
      "metadata": {
        "id": "4ef51a0b"
      },
      "source": [
        "G=nx.Graph()"
      ],
      "id": "4ef51a0b",
      "execution_count": 11,
      "outputs": []
    },
    {
      "cell_type": "code",
      "metadata": {
        "id": "0e477bd7"
      },
      "source": [
        "G.add_nodes_from(positions)"
      ],
      "id": "0e477bd7",
      "execution_count": 12,
      "outputs": []
    },
    {
      "cell_type": "code",
      "metadata": {
        "id": "b51df842",
        "outputId": "82262023-0d9c-42b9-8bd9-3da4c0844e0e",
        "colab": {
          "base_uri": "https://localhost:8080/"
        }
      },
      "source": [
        "list(G.nodes())"
      ],
      "id": "b51df842",
      "execution_count": 13,
      "outputs": [
        {
          "output_type": "execute_result",
          "data": {
            "text/plain": [
              "['Albany', 'Boston', 'NYC', 'Philly']"
            ]
          },
          "metadata": {
            "tags": []
          },
          "execution_count": 13
        }
      ]
    },
    {
      "cell_type": "code",
      "metadata": {
        "id": "46d3de1d"
      },
      "source": [
        "drive_times={('Albany','Boston'):3,\n",
        "            ('Albany','NYC'):4,\n",
        "            ('Boston','NYC'):4,\n",
        "            ('NYC','Philly'):2}"
      ],
      "id": "46d3de1d",
      "execution_count": 14,
      "outputs": []
    },
    {
      "cell_type": "code",
      "metadata": {
        "id": "7dcaad98"
      },
      "source": [
        "G.add_edges_from(drive_times)"
      ],
      "id": "7dcaad98",
      "execution_count": 15,
      "outputs": []
    },
    {
      "cell_type": "markdown",
      "metadata": {
        "id": "ea7c4ebb"
      },
      "source": [
        "draw函数只是把position和边画出来\n",
        "draw_networkx_edge_labels把label画出来\n",
        "所以两句要在一个cell中用"
      ],
      "id": "ea7c4ebb"
    },
    {
      "cell_type": "code",
      "metadata": {
        "id": "14573838",
        "outputId": "3c8fac17-dd63-4453-9035-8c7ef6e5d61f",
        "colab": {
          "base_uri": "https://localhost:8080/",
          "height": 426
        }
      },
      "source": [
        "nx.draw(G,positions,node_color=(1,0,0),node_shape='s',node_size=2500,with_labels=True)\n",
        "nx.draw_networkx_edge_labels(G,positions,edge_labels=drive_times)"
      ],
      "id": "14573838",
      "execution_count": 16,
      "outputs": [
        {
          "output_type": "stream",
          "text": [
            "*c* argument looks like a single numeric RGB or RGBA sequence, which should be avoided as value-mapping will have precedence in case its length matches with *x* & *y*.  Please use the *color* keyword-argument or provide a 2-D array with a single row if you intend to specify the same RGB or RGBA value for all points.\n"
          ],
          "name": "stderr"
        },
        {
          "output_type": "execute_result",
          "data": {
            "text/plain": [
              "{('Albany', 'Boston'): Text(-72.5, 42.5, '3'),\n",
              " ('Albany', 'NYC'): Text(-74.0, 42.0, '4'),\n",
              " ('Boston', 'NYC'): Text(-72.5, 41.5, '4'),\n",
              " ('NYC', 'Philly'): Text(-74.5, 40.5, '2')}"
            ]
          },
          "metadata": {
            "tags": []
          },
          "execution_count": 16
        },
        {
          "output_type": "display_data",
          "data": {
            "image/png": "[encoded data removed]",
            "text/plain": [
              "<Figure size 432x288 with 1 Axes>"
            ]
          },
          "metadata": {
            "tags": []
          }
        }
      ]
    },
    {
      "cell_type": "markdown",
      "metadata": {
        "id": "a61af5c8"
      },
      "source": [
        "enumerate生成的东西 第一个是序号 从0开始"
      ],
      "id": "a61af5c8"
    },
    {
      "cell_type": "code",
      "metadata": {
        "id": "b1f76859",
        "outputId": "fb8bd9c9-0d6a-4830-e99e-a22164e1da76",
        "colab": {
          "base_uri": "https://localhost:8080/"
        }
      },
      "source": [
        "nodes=range(10)\n",
        "#nodes=[2,4,6,8]\n",
        "for i,u in enumerate(nodes):\n",
        "    print(i,u)"
      ],
      "id": "b1f76859",
      "execution_count": 17,
      "outputs": [
        {
          "output_type": "stream",
          "text": [
            "0 0\n",
            "1 1\n",
            "2 2\n",
            "3 3\n",
            "4 4\n",
            "5 5\n",
            "6 6\n",
            "7 7\n",
            "8 8\n",
            "9 9\n"
          ],
          "name": "stdout"
        }
      ]
    },
    {
      "cell_type": "markdown",
      "metadata": {
        "id": "e79c11cd"
      },
      "source": [
        "生成完全图"
      ],
      "id": "e79c11cd"
    },
    {
      "cell_type": "code",
      "metadata": {
        "id": "20eb9b86"
      },
      "source": [
        "def all_pairs(nodes):\n",
        "    for i,u in enumerate(nodes):\n",
        "        for j,v in enumerate(nodes):\n",
        "            if i>j:\n",
        "                yield u,v"
      ],
      "id": "20eb9b86",
      "execution_count": 18,
      "outputs": []
    },
    {
      "cell_type": "code",
      "metadata": {
        "id": "bd300422"
      },
      "source": [
        "def make_complete_graph(n):\n",
        "    G=nx.Graph()\n",
        "    nodes=range(n)\n",
        "    G.add_nodes_from(nodes)\n",
        "    G.add_edges_from(all_pairs(nodes))\n",
        "    return G"
      ],
      "id": "bd300422",
      "execution_count": 19,
      "outputs": []
    },
    {
      "cell_type": "code",
      "metadata": {
        "id": "a0a14873"
      },
      "source": [
        "complete=make_complete_graph(10)"
      ],
      "id": "a0a14873",
      "execution_count": 20,
      "outputs": []
    },
    {
      "cell_type": "code",
      "metadata": {
        "id": "a24ca16f",
        "outputId": "54df4d17-3db2-4dc9-aac1-cd70172b6ca0",
        "colab": {
          "base_uri": "https://localhost:8080/",
          "height": 356
        }
      },
      "source": [
        "nx.draw_circular(complete,node_color=[1,0,0],node_size=1000,with_labels=True)"
      ],
      "id": "a24ca16f",
      "execution_count": 21,
      "outputs": [
        {
          "output_type": "stream",
          "text": [
            "*c* argument looks like a single numeric RGB or RGBA sequence, which should be avoided as value-mapping will have precedence in case its length matches with *x* & *y*.  Please use the *color* keyword-argument or provide a 2-D array with a single row if you intend to specify the same RGB or RGBA value for all points.\n"
          ],
          "name": "stderr"
        },
        {
          "output_type": "display_data",
          "data": {
            "image/png": "[encoded data removed]",
            "text/plain": [
              "<Figure size 432x288 with 1 Axes>"
            ]
          },
          "metadata": {
            "tags": []
          }
        }
      ]
    },
    {
      "cell_type": "code",
      "metadata": {
        "id": "a7a2796c",
        "outputId": "4cbefabc-7b3c-4a72-f30d-f5178a8aedb8",
        "colab": {
          "base_uri": "https://localhost:8080/"
        }
      },
      "source": [
        "list(complete.neighbors(1))"
      ],
      "id": "a7a2796c",
      "execution_count": 22,
      "outputs": [
        {
          "output_type": "execute_result",
          "data": {
            "text/plain": [
              "[0, 2, 3, 4, 5, 6, 7, 8, 9]"
            ]
          },
          "metadata": {
            "tags": []
          },
          "execution_count": 22
        }
      ]
    },
    {
      "cell_type": "markdown",
      "metadata": {
        "id": "52408c0c"
      },
      "source": [
        "在图G中找出start点所有可能的路径"
      ],
      "id": "52408c0c"
    },
    {
      "cell_type": "code",
      "metadata": {
        "id": "4da297be"
      },
      "source": [
        "def reachable_nodes(G,start):\n",
        "    seen=set()\n",
        "    stack=[start]\n",
        "    while stack:\n",
        "        node=stack.pop()\n",
        "        if node not in seen:\n",
        "            seen.add(node)\n",
        "            stack.extend(G.neighbors(node))\n",
        "    return seen"
      ],
      "id": "4da297be",
      "execution_count": 23,
      "outputs": []
    },
    {
      "cell_type": "code",
      "metadata": {
        "id": "da57c950",
        "outputId": "786e59bc-776c-4b22-d228-131076ea2a4b",
        "colab": {
          "base_uri": "https://localhost:8080/"
        }
      },
      "source": [
        "reachable_nodes(complete,0)"
      ],
      "id": "da57c950",
      "execution_count": 24,
      "outputs": [
        {
          "output_type": "execute_result",
          "data": {
            "text/plain": [
              "{0, 1, 2, 3, 4, 5, 6, 7, 8, 9}"
            ]
          },
          "metadata": {
            "tags": []
          },
          "execution_count": 24
        }
      ]
    },
    {
      "cell_type": "markdown",
      "metadata": {
        "id": "9c2fb4a4"
      },
      "source": [
        "检查是否是联通图\n",
        "只要有一个点可以遍历其它所有的点 那么就是联通图"
      ],
      "id": "9c2fb4a4"
    },
    {
      "cell_type": "code",
      "metadata": {
        "id": "639cb8c6"
      },
      "source": [
        "def is_connected(G):\n",
        "    start=next(iter(G))\n",
        "    reachable=reachable_nodes(G,start)\n",
        "    return len(reachable)==len(G)"
      ],
      "id": "639cb8c6",
      "execution_count": 25,
      "outputs": []
    },
    {
      "cell_type": "code",
      "metadata": {
        "id": "162124bb",
        "outputId": "5bbe79ac-5def-4bdb-cb80-19db2d93dd9c",
        "colab": {
          "base_uri": "https://localhost:8080/"
        }
      },
      "source": [
        "is_connected(complete)"
      ],
      "id": "162124bb",
      "execution_count": 26,
      "outputs": [
        {
          "output_type": "execute_result",
          "data": {
            "text/plain": [
              "True"
            ]
          },
          "metadata": {
            "tags": []
          },
          "execution_count": 26
        }
      ]
    },
    {
      "cell_type": "markdown",
      "metadata": {
        "id": "d5d6c64a"
      },
      "source": [
        "生成ER图 即G(n,p) p是概率"
      ],
      "id": "d5d6c64a"
    },
    {
      "cell_type": "code",
      "metadata": {
        "id": "2e98b4cc"
      },
      "source": [
        "import numpy as np"
      ],
      "id": "2e98b4cc",
      "execution_count": 27,
      "outputs": []
    },
    {
      "cell_type": "code",
      "metadata": {
        "id": "5516e214"
      },
      "source": [
        "def flip(p):\n",
        "    return np.random.random() < p"
      ],
      "id": "5516e214",
      "execution_count": 28,
      "outputs": []
    },
    {
      "cell_type": "code",
      "metadata": {
        "id": "9d31402c"
      },
      "source": [
        "def random_pairs(nodes,p):\n",
        "    for edge in all_pairs(nodes):\n",
        "        if flip(p):\n",
        "            yield edge"
      ],
      "id": "9d31402c",
      "execution_count": 29,
      "outputs": []
    },
    {
      "cell_type": "code",
      "metadata": {
        "id": "36a72a4b"
      },
      "source": [
        "def make_random_graph(n,p):\n",
        "    G=nx.Graph()\n",
        "    nodes=range(n)\n",
        "    G.add_nodes_from(nodes)\n",
        "    G.add_edges_from(random_pairs(nodes,p))\n",
        "    return G"
      ],
      "id": "36a72a4b",
      "execution_count": 30,
      "outputs": []
    },
    {
      "cell_type": "code",
      "metadata": {
        "id": "7bbafe85"
      },
      "source": [
        "random_graph=make_random_graph(10,0.2)"
      ],
      "id": "7bbafe85",
      "execution_count": 36,
      "outputs": []
    },
    {
      "cell_type": "code",
      "metadata": {
        "id": "2e048b20",
        "outputId": "959a8287-ab54-4069-bbd0-97d4b39e5e8f",
        "colab": {
          "base_uri": "https://localhost:8080/",
          "height": 356
        }
      },
      "source": [
        "nx.draw_circular(random_graph,node_color=[1,0,0],node_size=1000,with_labels=True)"
      ],
      "id": "2e048b20",
      "execution_count": 37,
      "outputs": [
        {
          "output_type": "stream",
          "text": [
            "*c* argument looks like a single numeric RGB or RGBA sequence, which should be avoided as value-mapping will have precedence in case its length matches with *x* & *y*.  Please use the *color* keyword-argument or provide a 2-D array with a single row if you intend to specify the same RGB or RGBA value for all points.\n"
          ],
          "name": "stderr"
        },
        {
          "output_type": "display_data",
          "data": {
            "image/png": "[encoded data removed]",
            "text/plain": [
              "<Figure size 432x288 with 1 Axes>"
            ]
          },
          "metadata": {
            "tags": []
          }
        }
      ]
    },
    {
      "cell_type": "code",
      "metadata": {
        "id": "120bfc69",
        "outputId": "ca53aee6-4eef-4358-fe63-6c62eee3d00a",
        "colab": {
          "base_uri": "https://localhost:8080/"
        }
      },
      "source": [
        "len(random_graph.edges())"
      ],
      "id": "120bfc69",
      "execution_count": 38,
      "outputs": [
        {
          "output_type": "execute_result",
          "data": {
            "text/plain": [
              "9"
            ]
          },
          "metadata": {
            "tags": []
          },
          "execution_count": 38
        }
      ]
    },
    {
      "cell_type": "code",
      "metadata": {
        "id": "dce08b03",
        "outputId": "df591ae2-52b6-4ea2-b3b8-e3fac5f1e7f1",
        "colab": {
          "base_uri": "https://localhost:8080/"
        }
      },
      "source": [
        "len(complete.edges())"
      ],
      "id": "dce08b03",
      "execution_count": 39,
      "outputs": [
        {
          "output_type": "execute_result",
          "data": {
            "text/plain": [
              "45"
            ]
          },
          "metadata": {
            "tags": []
          },
          "execution_count": 39
        }
      ]
    },
    {
      "cell_type": "code",
      "metadata": {
        "id": "47b3dcc0",
        "outputId": "595443b8-5813-4f01-e9c8-78e432412b95",
        "colab": {
          "base_uri": "https://localhost:8080/"
        }
      },
      "source": [
        "is_connected(random_graph)"
      ],
      "id": "47b3dcc0",
      "execution_count": 40,
      "outputs": [
        {
          "output_type": "execute_result",
          "data": {
            "text/plain": [
              "True"
            ]
          },
          "metadata": {
            "tags": []
          },
          "execution_count": 40
        }
      ]
    },
    {
      "cell_type": "code",
      "metadata": {
        "id": "91d1c804"
      },
      "source": [
        ""
      ],
      "id": "91d1c804",
      "execution_count": 35,
      "outputs": []
    }
  ]
}